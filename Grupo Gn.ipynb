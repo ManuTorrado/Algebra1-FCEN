{
 "cells": [
  {
   "cell_type": "markdown",
   "metadata": {},
   "source": [
    "# Raices enesimas de z\n",
    "\n",
    "$z= -\\sqrt{2}-2\\sqrt{2}i$\n",
    "\n",
    "$w^6= z$ \n",
    "\n",
    "# El grupo $G_n$\n",
    "El grupo $G_n$ son todas las raices de la unidad\n",
    "\n",
    "$$G_{n}=\\left\\{\\omega \\in \\mathbb{C}: \\omega^{n}=1\\right\\}$$\n",
    "$$G_{n}=\\left\\{\\omega_{k}=e^{\\frac{2 k \\pi}{n} i}, 0 \\leq k \\leq n-1\\right\\} $$\n",
    "$$G_n\\subseteq \\mathbb{C}$$\n",
    "\n",
    "<img src=\"./img/Gn.gif\">\n",
    "\n",
    "\n",
    "El conjunto $G_n$ tiene $n$ elementos distintos en $\\mathbb C$ que forman un $n$-ágono regular en la circunferencia unidad del plano complejo, empezando desde el 1.\n",
    "\n",
    "\n",
    "\n",
    "\n",
    "\n",
    "\n",
    "### Propiedades\n",
    "\n",
    "- $\\omega \\in G_{n} \\implies |\\omega|=1$\n",
    "- $\\omega \\in G_n \\Rightarrow \\omega^m \\in G_n, \\forall  m \\in \\mathbb{Z}$\n",
    "- $m\\equiv m' (n) \\Rightarrow \\omega^m = w^{m'}$\n",
    "- $\\omega^m = \\omega^{r_n(m)}$\n",
    "\n",
    "\n",
    "\n"
   ]
  },
  {
   "cell_type": "markdown",
   "metadata": {},
   "source": []
  }
 ],
 "metadata": {
  "language_info": {
   "name": "python"
  }
 },
 "nbformat": 4,
 "nbformat_minor": 2
}
