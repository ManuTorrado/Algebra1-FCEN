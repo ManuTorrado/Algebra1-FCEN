{
 "cells": [
  {
   "cell_type": "markdown",
   "metadata": {},
   "source": [
    "### Introduccion\n",
    "\n",
    "Imaginemos que queremos buscar las raices de $x^2+1$ (Es decir, los x que hacen que la ecuacion valga cero). Me encontraria con la siguiente ecuacion :\n",
    "$$ x^2 + 1 = 0 $$\n",
    "$$x^2 = -1$$\n",
    "Esto no tiene solucion real, **porque todo numero real al cuadrado es positivo**.\n",
    "\n",
    "Pero... **No es la primera vez que un conjunto numerico no tiene solucion para una operacion**, no? Es decir\n",
    "En los naturales nos pasaba (por ejemplo) que $3-5= -2$. Pero $-2 \\not \\in \\mathbb{N}$. Esto significa que **Los naturales no son cerrados para la resta**.\n",
    "\n",
    "Entonces armamos los numeros enteros $\\mathbb{Z}$. Pero, volviamos a tener un problemas, como $\\frac{3}{2} \\not \\in \\mathbb{Z}$. **.\n",
    "Los enteros no son cerrados para la division**.\n",
    "\n",
    "... Y asi se fueron construyendo conjuntos numericos hasta llegar a $\\mathbb{R}$.\n",
    "\n",
    "Pero ahora tenemos el problema de que $x^2 = -1 \\not \\in \\mathbb{R}$. **Los reales no son cerrados para el exponente (^).**\n",
    "\n",
    "Para solucionarlo, decimos que $\\sqrt{-1} = i$, donde $i$ es llamada **unidad imaginaria**.\n",
    "\n",
    "Si sumamos un numero real con otro imaginario obtenemos un **numero complejo** $\\mathbb{C}$.\n",
    "\n",
    "$z = a + bi$ con $\\ a,b \\in \\mathbb{R}$ y ademas $i \\not \\in \\mathbb{R}$\n",
    "\n",
    "Entonces estamos en condiciones de decir que $z \\in \\mathbb{C}$\n",
    "\n",
    "y volviendo al problema anterior ($x^2 = -1$) ya tenemos solucion!\n",
    "$x = i$\n",
    "$$ i^2 = -1$$\n",
    "\n",
    "⚠️ Obs: vamos a decir que $i^2 = -1$ en lugar de $i = \\sqrt{-1}$. Ya que **la raiz cuadrada solo existe para los numeros reales**:\n",
    "$$\\sqrt{x} \\ : \\  \\mathbb{R} \\rightarrow \\mathbb{R}$$\n",
    "\n",
    "### El conjunto de los complejos\n",
    "\n",
    "Entonces introdujimos un nuevo conjunto llamado $\\mathbb{C}$, el conjunto de los números complejos. El cual cumple que $\\mathbb{R} \\subset \\mathbb{C}$. Vamos a ver las distintas maneras de expresar un numero complejo.\n",
    "\n",
    "### Forma binomial\n",
    "\n",
    "Dado $z \\in \\mathbb{C}$ la forma $z = a+b.i$ con $a,b \\in \\mathbb{R}$ se llama forma binomial de $z$. $\\mathbb{C} = \\{ z=a+b.i; \\ a,b \\in \\mathbb{R} \\}$\n",
    "\n",
    "### Forma trigonometrica\n",
    "\n",
    "$$z = r.cos(\\theta) + i.sen(\\theta).r$$\n",
    "\n",
    "### El plano complejo\n",
    "\n",
    "<img src=\"./img/binomial-form.png\" width=\"450px\"/>\n",
    "\n",
    "### Notacion exponencial\n",
    "\n",
    "$$e^{\\theta i} = \\cos(\\theta) + i \\sin(\\theta) \\ \\forall \\theta \\in \\R$$\n",
    "\n",
    "![Rotando de un numero complejo](./img/euler-rotation.gif)\n",
    "\n",
    "### Teorema fundamental del algebra\n",
    "\n",
    "\"Todo polinomio de grado mayor que cero tiene una raíz.​ El dominio de la variable es el conjunto de los números complejos, que es una extensión de los números reales.\"\n",
    "\n",
    "$$\n",
    "\\begin{matrix}\n",
    " & + & \\times & - & / & \\hat{} \\\\\n",
    "\\mathbb{N} \\ \\text{Naturals} & \\mathbb{N} & \\mathbb{N} & \\mathbb{Z} & \\mathbb{Q} & \\mathbb{Q}\\\\\n",
    "\\mathbb{Z}  \\ \\text{Integers} & \\mathbb{Z} & \\mathbb{Z} & \\mathbb{Z} & \\mathbb{Q} & \\mathbb{Q} \\\\\n",
    "\\mathbb{Q} \\ \\text{Rational} & \\mathbb{N} & \\mathbb{N} & \\mathbb{Z} & \\mathbb{Q} & \\mathbb{Q} \\\\\n",
    "\\mathbb{R} \\ \\text{Real}& \\mathbb{R} & \\mathbb{R} & \\mathbb{R} & \\mathbb{R} & \\mathbb{C}\\\\\n",
    "\\mathbb{C} \\ \\text{Complex}& \\mathbb{C} & \\mathbb{C} & \\mathbb{C} & \\mathbb{C} &\n",
    "\\mathbb{C} &\n",
    "\\end{matrix}\n",
    "$$\n"
   ]
  },
  {
   "cell_type": "code",
   "execution_count": null,
   "metadata": {
    "vscode": {
     "languageId": "plaintext"
    }
   },
   "outputs": [],
   "source": []
  }
 ],
 "metadata": {
  "language_info": {
   "name": "python"
  }
 },
 "nbformat": 4,
 "nbformat_minor": 2
}
