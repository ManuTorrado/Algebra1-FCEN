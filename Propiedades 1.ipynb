{
 "cells": [
  {
   "cell_type": "markdown",
   "metadata": {},
   "source": [
    "### Propiedades de la potenciación\n",
    "\n",
    "$a^n.a^m = a^{n+m}$\n",
    "\n",
    "$(a^n)^m = a^{n.m}$\n",
    "\n",
    "$a^n.b^n = (a.b)^n$\n",
    "\n",
    "### Diferencia de cuadrados\n",
    "$x^2-y^2 = (x-y)(x+y)$\n",
    "\n",
    "# Propiedades  de sumatoria\n",
    "\n",
    "### Suma geométrica\n",
    "\n",
    "$\\sum^{n}_{k=0} ar^k = a+r \\sum^{n}_{k=0} =a+ \\sum^{n}_{k=0} ar^k$  \n",
    "\n",
    "Se puede remplazar en inducción usando la propiedad\n",
    "\n",
    "$$\n",
    "∀ n ∈ N : 1 + q + · · · + q^n = \n",
    "\\left\\lbrace\n",
    "\\begin{array}{ll}\n",
    "\\textup{si } q =1 & n+1\\\\ \n",
    "\\textup{si } q \\text{ }\\cancel{ = }\\text{ }1  & \\frac{q^{n+1}-1}{q-1}\n",
    "\\end{array}\n",
    "\\right.\n",
    "$$\n",
    "\n",
    "Escrito con sumatoria queda\n",
    "\n",
    "$$\n",
    "\\sum^{n}_{j=0} w^j= \n",
    "\\left\\lbrace\n",
    "\\begin{array}{ll}\n",
    "\\textup{si } w =1 & n+1\\\\ \n",
    "\\textup{si } w \\text{ }\\cancel{ = }\\text{ }1  & \\frac{w^{n+1}-1}{w-1}\n",
    "\\end{array}\n",
    "\\right.\n",
    "$$\n",
    "\n",
    "### Suma de Gauss\n",
    "\n",
    "$\\sum^n_{k=1} k= \\frac{n(n+1)}{2}$\n",
    "\n",
    "\n",
    "# Restos\n",
    " $$\\text{Dado } x \\equiv y (z) \\ \n",
    "\\text{Puedo hacer } \\frac{x}{j} \\equiv \\frac{y}{j} (z) \\ \\ \\text{si } z \\perp j$$\n",
    "\n"
   ]
  }
 ],
 "metadata": {
  "language_info": {
   "name": "python"
  }
 },
 "nbformat": 4,
 "nbformat_minor": 2
}
