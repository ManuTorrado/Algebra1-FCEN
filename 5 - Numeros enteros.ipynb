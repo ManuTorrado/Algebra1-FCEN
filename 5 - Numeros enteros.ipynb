{
 "cells": [
  {
   "cell_type": "markdown",
   "metadata": {},
   "source": [
    "# Numeros enteros\n",
    "\n",
    "\n",
    "## Numeros primos\n",
    "\n",
    "\n",
    "\n",
    "## Teorema chino del resto"
   ]
  }
 ],
 "metadata": {
  "language_info": {
   "name": "python"
  }
 },
 "nbformat": 4,
 "nbformat_minor": 2
}
