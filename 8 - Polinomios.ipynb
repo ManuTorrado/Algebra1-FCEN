{
 "cells": [
  {
   "cell_type": "markdown",
   "metadata": {},
   "source": [
    "# Polinomios\n",
    "\n",
    "\n",
    "#### Como obtener el grado, el coeficiente principal y el termino independiente\n",
    "\n",
    "Para $f=(ax^n)^j$   \n",
    "\n",
    "- $gr(f) =n.j$\n",
    "- $cp(f) =a^j$\n",
    "- Termino independiente de $f = a_0$\n",
    "\n",
    "Sea $f=(a_nX^n+a_{n-1}X^{n-1}...a_0X)^j$\n",
    "\n",
    "El termino independiente $(a_0)$ se obtiene elevando $a_0$ a la j: $(a_0)^j$\n",
    "\n",
    "\n",
    "\n",
    "\n",
    "\n",
    "\n",
    "\n"
   ]
  }
 ],
 "metadata": {
  "language_info": {
   "name": "python"
  }
 },
 "nbformat": 4,
 "nbformat_minor": 2
}
