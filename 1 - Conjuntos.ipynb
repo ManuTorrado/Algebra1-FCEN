{
 "cells": [
  {
   "cell_type": "markdown",
   "metadata": {},
   "source": [
    "## Que son?\n"
   ]
  },
  {
   "cell_type": "markdown",
   "metadata": {},
   "source": [
    "\n",
    "Un conjunto es una colección finita o infinita de elementos sin repetir. Existen varios ejemplos de conjuntos como los números naturales, los enteros, etc. Los conjuntos pueden ser definidos de dos maneras:\n",
    "\n",
    "### Por extensión\n",
    "\n",
    "$$\n",
    "A = \\Set{ 1,2,3,4}\n",
    "$$\n",
    "\n",
    "### Por comprensión\n",
    "\n",
    "$$\n",
    "A = \\Set{ x \\in \\mathbb{N} / x<5 }  \n",
    "$$\n",
    "\n",
    "## Conjunto vacío\n",
    "\n",
    "El conjunto vacío es notado como $\\emptyset$ y es un conjunto sin elementos, es decir equivale a { }.\n",
    "\n",
    "> Todo conjunto contiene al conjunto vacío, **incluido el conjunto vacío.**\n",
    "> \n",
    "\n",
    "Es decir, $\\emptyset \\subset \\emptyset$ y $\\emptyset \\subset A$ Para todo conjunto A. \n",
    "\n",
    "Sin embargo, el conjunto vacío no siempre pertenece a todo conjunto. Es decir, no siempre se cumple que $\\emptyset \\in A$. Solo ocurre en algunos casos, ejemplo:\n",
    "\n",
    "Si $A = \\Set{ 1,2,3, \\emptyset }$ Entonces  $\\emptyset \\in A$.\n",
    "\n",
    "Si  $B = \\Set{ 1,2,3 }$ Entonces  $\\emptyset \\not\\in A$\n",
    "\n",
    "# Diagramas de Venn\n",
    "Son una serie de dibujitos que nos permiten ilustrar a los conjuntos y sus operaciones\n",
    "<img src=\"https://github.com/ManuTorrado/Algebra1-FCEN/assets/34150608/f8e2a85b-6091-4c2f-a407-f24938954841\"   width=\"508\"/>\n",
    "\n",
    "## Operaciones\n",
    "\n",
    "### Interseccion \n",
    "$A \\cap B$\n",
    "Representa los elementos que tienen en comun A y B\n",
    "\n",
    "$A =$ {1,2,3,4} $B=${1,5,3} \n",
    "\n",
    "$A \\cap B$ = {1,3}\n",
    "\n",
    "### Diferencia simetrica\n",
    "\n",
    "$A ∆ B = (A ∖ B) ∪ (B ∖ A)$\n",
    "\n",
    "![image](https://github.com/ManuTorrado/Algebra1-FCEN/assets/34150608/39197e6b-5c55-4ef0-bafe-ad1746b03adc)\n",
    "\n",
    "\n",
    "\n",
    "### Glosario de o peraciones con conjuntos\n",
    "- $\\cap$ Interseccion\n",
    "- $\\cup$ Union\n",
    "- $\\setminus$ Diferencia de conjuntos\n",
    "- $\\triangle$ Diferencia simetrica\n",
    "- $^{\\complement}$ Complemento\n",
    "- ${\\varnothing}$ Conjunto vacio\n",
    "- ${\\in}$ Pertenencia a un conjunto\n",
    "- $\\notin$ No pertenencia a un conjunto\n",
    "- $\\subset$ Subconjunto\n",
    "- $|A|$ Cardinal de un conjunto\n",
    "- `#A` Otra forma de notar un cardinal\n",
    "\n"
   ]
  }
 ],
 "metadata": {
  "language_info": {
   "name": "python"
  }
 },
 "nbformat": 4,
 "nbformat_minor": 2
}
