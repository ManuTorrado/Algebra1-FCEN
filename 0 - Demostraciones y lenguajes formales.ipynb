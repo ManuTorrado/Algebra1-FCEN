{
 "cells": [
  {
   "cell_type": "markdown",
   "metadata": {},
   "source": [
    "# Lenguajes Formales y demostraciones\n",
    "Los lenguajes formales son necesarios para plasmar el razonamiento logico y evitar las ambiguedades del lenguaje humano. Por eso lo vamos a ver presente en cosas como demostraciones matematicas o lenguajes de programacion, donde se necesita de una precision exacta al comunicar.\n",
    "\n",
    "# Simbolos matematicos\n",
    "- $\\forall$  Para todo\n",
    "- $\\exists$  Existe\n",
    "- /  Tal que \n",
    "- $\\leftrightarrow$  Si y solo si\n",
    "- $\\therefore$  Por lo tanto\n",
    "- $\\in$  Pertenece\n",
    "- $\\rightarrow$  Implica\n",
    "\n",
    "# Glosario para demostraciones\n",
    "\n",
    "### Proposición\n",
    "\n",
    "una proposición es una afirmación o enunciado que puede ser clasificado como verdadero o falso, pero no ambos a la vez.\n",
    "\n",
    "### Axioma\n",
    "\n",
    "es una proposición o enunciado que se asume como verdadero sin necesidad de demostración dentro de un sistema formal.\n",
    "\n",
    "### Teorema\n",
    "\n",
    "Los teoremas son resultados importantes y fundamentales que se obtienen a partir de axiomas y otros teoremas previamente demostrados.\n",
    "\n",
    "### Lema\n",
    "\n",
    "proposición o teorema auxiliar que se utiliza como paso intermedio para demostrar un resultado principal más importante.\n",
    "\n",
    "### Corolario\n",
    "\n",
    "Consecuencia que uno deduce inmediatamente de un teorema\n",
    "\n",
    "# Demostraciones\n",
    "\n",
    "### Demostración directa\n",
    "\n",
    "### Demostración por contraposición\n",
    "\n",
    "\n",
    "### Demostración por reducción al absurdo\n",
    "\n",
    "### Demostración exhaustiva\n"
   ]
  }
 ],
 "metadata": {
  "language_info": {
   "name": "python"
  }
 },
 "nbformat": 4,
 "nbformat_minor": 2
}
