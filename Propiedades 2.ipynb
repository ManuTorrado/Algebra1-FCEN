{
 "cells": [
  {
   "cell_type": "markdown",
   "metadata": {},
   "source": [
    "### Propiedades del conjugado y del módulo.\n",
    "\n",
    "Para todo $z \\in \\mathbb{C}$ , se tiene\n",
    "\n",
    "- $\\overline{\\overline{z}} = z$\n",
    "- $z = \\overline{z} \\Leftrightarrow z \\in \\mathbb{R}$\n",
    "- $z + \\overline{z} = 2 \\ \\Re e(z)$\n",
    "- $z - \\overline{z} = 2\\ \\Im m(z)i$\n",
    "- $|  \\Re e \\ (z)  | \\leq |z|, |\\Im m(z)| \\leq |z|$\n",
    "\n",
    "Relaciones entre $\\overline{z}$ y $|z|$\n",
    "\n",
    "$z . \\overline{z} = |z|^2, \\ \\forall z \\in \\mathbb{C}$\n",
    "\n",
    "$z^{-1} = \\frac{\\overline{z}}{|z|^2} , \\  \\forall z \\in \\mathbb{C}^{\\times}$\n",
    "\n",
    "### Propiedades modulo y argumento\n",
    "$$r.e^{\\theta i}  \\ s.e^{\\varphi i} = rse^{(\\theta+\\varphi)i}$$\n",
    "$$arg(z.w) = arg(z)+arg(w) - 2k \\pi, k \\in \\mathbb{Z} $$\n",
    "$$\\arg(z^n) = n \\arg(z) -2k\\pi < 2\\pi, k \\in \\mathbb{Z} $$\n",
    "$$|z .w| = |z|.|w|$$\n",
    "$$|z^n| = |z|^n$$"
   ]
  }
 ],
 "metadata": {
  "language_info": {
   "name": "python"
  }
 },
 "nbformat": 4,
 "nbformat_minor": 2
}
