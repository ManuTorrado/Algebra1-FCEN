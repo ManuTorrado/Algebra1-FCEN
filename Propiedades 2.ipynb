{
 "cells": [
  {
   "cell_type": "markdown",
   "metadata": {},
   "source": [
    "### Propiedades del conjugado y del módulo.\n",
    "\n",
    "Para todo $z \\in \\mathbb{C}$ , se tiene\n",
    "\n",
    "- $\\overline{\\overline{z}} = z$\n",
    "- $z = \\overline{z} \\Leftrightarrow z \\in \\mathbb{R}$\n",
    "- $z + \\overline{z} = 2 \\ \\Re e(z)$\n",
    "- $z - \\overline{z} = 2\\ \\Im m(z)i$\n",
    "- $|  \\Re e \\ (z)  | \\leq |z|, |\\Im m(z)| \\leq |z|$\n",
    "\n",
    "Relaciones entre $\\overline{z}$ y $|z|$\n",
    "\n",
    "$z . \\overline{z} = |z|^2, \\ \\forall z \\in \\mathbb{C}$\n",
    "\n",
    "$z^{-1} = \\frac{\\overline{z}}{|z|^2} , \\  \\forall z \\in \\mathbb{C}^{\\times}$\n",
    "\n",
    "### Propiedades modulo y argumento\n",
    "$r.e^{\\theta i}  \\ s.e^{\\varphi i} = rse^{(\\theta+\\varphi)i}$\n",
    "$arg(z.w) = arg(z)+arg(w) - 2k \\pi, k \\in \\mathbb{Z} $\n",
    "\n",
    "$\\arg(z^n) = n \\arg(z) -2k\\pi < 2\\pi, k \\in \\mathbb{Z}$\n",
    "\n",
    "$|z .w| = |z|.|w|$\n",
    "\n",
    "$|z^n| = |z|^n$\n",
    "\n",
    "### Propiedeades de Gn\n",
    "Sea $n \\in \\N$ y Sea $\\omega \\in G^n$. Entonces:\n",
    "\n",
    "1. $|\\omega|=1$.\n",
    "2. Sea $m \\in \\Z$ tal que $n|m$. Entonces $\\omega^m=1$.\n",
    "3. Sean $m,m'\\in \\Z$ tales que $m \\equiv m' \\pmod n$, entonces $\\omega^m=\\omega^{m'}$. En particular $\\omega^{m}=\\omega^{r_{n}(m)}$.\n",
    "4. $\\omega^{-1}=\\varpi=\\omega^{n-1}$\n",
    "\n",
    "$$\\sum_{\\omega \\in G_{n}} \\omega=\\left\\{\\begin{array}{lll}1 & \\text { si } & n=1 \\\\0 & \\text { si } & n>1\\end{array}\\right.$$\n",
    "\n",
    "$$\\prod_{\\omega \\in G_{n}} \\omega=\\left\\{\\begin{array}{ccc}\n",
    "1 & \\text { si } & n \\text { es impar } \\\\\n",
    "-1 & \\text { si } & n \\text { es par }\n",
    "\\end{array}\\right.$$"
   ]
  }
 ],
 "metadata": {
  "language_info": {
   "name": "python"
  }
 },
 "nbformat": 4,
 "nbformat_minor": 2
}
